{
  "nbformat": 4,
  "nbformat_minor": 0,
  "metadata": {
    "colab": {
      "name": "Mnist手寫數字辨識.ipynb",
      "version": "0.3.2",
      "provenance": [],
      "include_colab_link": true
    },
    "kernelspec": {
      "display_name": "Python 3",
      "language": "python",
      "name": "python3"
    }
  },
  "cells": [
    {
      "cell_type": "markdown",
      "metadata": {
        "id": "view-in-github",
        "colab_type": "text"
      },
      "source": [
        "<a href=\"https://colab.research.google.com/github/andrew623849/AI-/blob/master/Mnist%E6%89%8B%E5%AF%AB%E6%95%B8%E5%AD%97%E8%BE%A8%E8%AD%98.ipynb\" target=\"_parent\"><img src=\"https://colab.research.google.com/assets/colab-badge.svg\" alt=\"Open In Colab\"/></a>"
      ]
    },
    {
      "metadata": {
        "id": "3Xx9bUrrtZXf",
        "colab_type": "code",
        "colab": {}
      },
      "cell_type": "code",
      "source": [
        "from keras.datasets import mnist"
      ],
      "execution_count": 0,
      "outputs": []
    },
    {
      "metadata": {
        "id": "5oWQc6A_tZXX",
        "colab_type": "code",
        "colab": {},
        "outputId": "777cf0ee-42c7-4889-b88b-0a36a3edb192"
      },
      "cell_type": "code",
      "source": [
        "import numpy as np\n",
        "import pandas as pd\n",
        "from keras.utils import np_utils\n",
        "np.random.seed(10)"
      ],
      "execution_count": 0,
      "outputs": [
        {
          "output_type": "stream",
          "text": [
            "D:\\anaconda\\envs\\tensorflow\\lib\\site-packages\\h5py\\__init__.py:36: FutureWarning: Conversion of the second argument of issubdtype from `float` to `np.floating` is deprecated. In future, it will be treated as `np.float64 == np.dtype(float).type`.\n",
            "  from ._conv import register_converters as _register_converters\n",
            "Using TensorFlow backend.\n"
          ],
          "name": "stderr"
        }
      ]
    },
    {
      "metadata": {
        "id": "_JD12DEutZXi",
        "colab_type": "code",
        "colab": {}
      },
      "cell_type": "code",
      "source": [
        "(X_train_image,y_train_label),(X_test_image,y_test_label)=mnist.load_data()"
      ],
      "execution_count": 0,
      "outputs": []
    },
    {
      "metadata": {
        "id": "DAj5yQsTtZXm",
        "colab_type": "code",
        "colab": {},
        "outputId": "0af47124-8eb1-4741-83a6-7413800db43b"
      },
      "cell_type": "code",
      "source": [
        "print(\"train:\",len(X_train_image))\n",
        "print(\"test:\",len(X_test_image))"
      ],
      "execution_count": 0,
      "outputs": [
        {
          "output_type": "stream",
          "text": [
            "train: 60000\n",
            "test: 10000\n"
          ],
          "name": "stdout"
        }
      ]
    },
    {
      "metadata": {
        "id": "Mu25D19StZXq",
        "colab_type": "code",
        "colab": {},
        "outputId": "34eb2648-2d9d-4509-b2e6-b1de8e455113"
      },
      "cell_type": "code",
      "source": [
        "print(\"X_train_image:\",X_train_image.shape)\n",
        "print(\"y_train_label:\",y_train_label.shape)"
      ],
      "execution_count": 0,
      "outputs": [
        {
          "output_type": "stream",
          "text": [
            "X_train_image: (60000, 28, 28)\n",
            "y_train_label: (60000,)\n"
          ],
          "name": "stdout"
        }
      ]
    },
    {
      "metadata": {
        "id": "_gyO4JqZtZXv",
        "colab_type": "code",
        "colab": {}
      },
      "cell_type": "code",
      "source": [
        "#定義數字影像顯示\n",
        "import matplotlib.pyplot as plt\n",
        "def plot_image(image):\n",
        "    fig=plt.gcf()\n",
        "    fig.set_size_inches(2,2)\n",
        "    plt.imshow(image,cmap='binary')\n",
        "    plt.show()"
      ],
      "execution_count": 0,
      "outputs": []
    },
    {
      "metadata": {
        "id": "4nQ95lp4tZXy",
        "colab_type": "code",
        "colab": {},
        "outputId": "e853a664-1e15-4b3d-bace-15fcd7ba6881"
      },
      "cell_type": "code",
      "source": [
        "print(y_train_label[0])\n",
        "plot_image(X_train_image[0])"
      ],
      "execution_count": 0,
      "outputs": [
        {
          "output_type": "stream",
          "text": [
            "5\n"
          ],
          "name": "stdout"
        },
        {
          "output_type": "display_data",
          "data": {
            "image/png": "[encoded data removed]",
            "text/plain": [
              "<Figure size 144x144 with 1 Axes>"
            ]
          },
          "metadata": {
            "tags": []
          }
        }
      ]
    },
    {
      "metadata": {
        "id": "_HnvAkzrtZX2",
        "colab_type": "code",
        "colab": {}
      },
      "cell_type": "code",
      "source": [
        "#更棒的數字顯示函數\n",
        "import matplotlib.pyplot as plt\n",
        "def plot_image_labels_prediction(images,labels,prediction,idx,num=10):\n",
        "    fig=plt.gcf()\n",
        "    fig.set_size_inches(12, 14)\n",
        "    if num>25:num=25\n",
        "    for i in range(0,num):\n",
        "            ax=plt.subplot(5,5,1+i)\n",
        "            ax.imshow(images[idx],cmap='binary')\n",
        "            title=\"label=\"+str(labels[idx])\n",
        "            if len(prediction)>0:\n",
        "                title+=\",prediction=\"+str(prediction[idx])\n",
        "            \n",
        "            ax.set_title(title,fontsize=10)\n",
        "            ax.set_xticks([]);ax.set_yticks([])\n",
        "            idx+=1\n",
        "    plt.show()\n",
        "    "
      ],
      "execution_count": 0,
      "outputs": []
    },
    {
      "metadata": {
        "id": "EkCdPtOmtZX4",
        "colab_type": "code",
        "colab": {},
        "outputId": "5166e563-df47-4dd8-b47d-c0260dc66317"
      },
      "cell_type": "code",
      "source": [
        "plot_image_labels_prediction(X_test_image,y_test_label,[],0,10)"
      ],
      "execution_count": 0,
      "outputs": [
        {
          "output_type": "display_data",
          "data": {
            "image/png": "[encoded data removed]",
            "text/plain": [
              "<Figure size 864x1008 with 10 Axes>"
            ]
          },
          "metadata": {
            "tags": []
          }
        }
      ]
    },
    {
      "metadata": {
        "id": "klig5WJMtZX8",
        "colab_type": "code",
        "colab": {}
      },
      "cell_type": "code",
      "source": [
        "#資料處理(圖片轉一維陣列28*28=784) label轉ONEHOT\n",
        "\n",
        "X_Train=X_train_image.reshape(60000,784).astype('float32')\n",
        "X_Test=X_test_image.reshape(10000,784).astype('float32')\n",
        "X_Train_normalize=X_Train/255\n",
        "X_Test_normalize=X_Test/255\n",
        "\n",
        "y_Train=np_utils.to_categorical(y_train_label)\n",
        "y_Test=np_utils.to_categorical(y_test_label)"
      ],
      "execution_count": 0,
      "outputs": []
    },
    {
      "metadata": {
        "id": "UE5HuhVAtZX-",
        "colab_type": "code",
        "colab": {},
        "outputId": "f2bc22c7-1c05-422f-976d-4b2226f30580"
      },
      "cell_type": "code",
      "source": [
        "print(y_Train[0])"
      ],
      "execution_count": 0,
      "outputs": [
        {
          "output_type": "stream",
          "text": [
            "[0. 0. 0. 0. 0. 1. 0. 0. 0. 0.]\n"
          ],
          "name": "stdout"
        }
      ]
    },
    {
      "metadata": {
        "id": "EU2s2BfdtZYB",
        "colab_type": "code",
        "colab": {},
        "outputId": "920fe1dd-5b0a-4ba4-d1c9-c414cdc4228e"
      },
      "cell_type": "code",
      "source": [
        "#開始建立模型\n",
        "from keras.models import Sequential\n",
        "from keras.layers import Dense\n",
        "\n",
        "model=Sequential()\n",
        "\n",
        "model.add(Dense(units=256,input_dim=784,kernel_initializer='normal',activation='relu'))\n",
        "\n",
        "model.add(Dense(units=10,kernel_initializer='normal',activation='softmax'))\n",
        "\n",
        "print(model.summary())"
      ],
      "execution_count": 0,
      "outputs": [
        {
          "output_type": "stream",
          "text": [
            "_________________________________________________________________\n",
            "Layer (type)                 Output Shape              Param #   \n",
            "=================================================================\n",
            "dense_5 (Dense)              (None, 256)               200960    \n",
            "_________________________________________________________________\n",
            "dense_6 (Dense)              (None, 10)                2570      \n",
            "=================================================================\n",
            "Total params: 203,530\n",
            "Trainable params: 203,530\n",
            "Non-trainable params: 0\n",
            "_________________________________________________________________\n",
            "None\n"
          ],
          "name": "stdout"
        }
      ]
    },
    {
      "metadata": {
        "id": "nZu6aUdVtZYG",
        "colab_type": "code",
        "colab": {},
        "outputId": "3b7f359c-576e-4557-8d0e-d4f399715318"
      },
      "cell_type": "code",
      "source": [
        "#訓練\n",
        "model.compile(loss='categorical_crossentropy',optimizer='adam',metrics=['accuracy'])\n",
        "\n",
        "train_history=model.fit(x=X_Train_normalize,y=y_Train,validation_split=0.2,epochs=10,batch_size=200,verbose=2)"
      ],
      "execution_count": 0,
      "outputs": [
        {
          "output_type": "stream",
          "text": [
            "Train on 48000 samples, validate on 12000 samples\n",
            "Epoch 1/10\n",
            " - 2s - loss: 0.4391 - acc: 0.8833 - val_loss: 0.2204 - val_acc: 0.9415\n",
            "Epoch 2/10\n",
            " - 2s - loss: 0.1894 - acc: 0.9465 - val_loss: 0.1593 - val_acc: 0.9565\n",
            "Epoch 3/10\n",
            " - 2s - loss: 0.1361 - acc: 0.9613 - val_loss: 0.1352 - val_acc: 0.9622\n",
            "Epoch 4/10\n",
            " - 2s - loss: 0.1064 - acc: 0.9701 - val_loss: 0.1144 - val_acc: 0.9663\n",
            "Epoch 5/10\n",
            " - 2s - loss: 0.0841 - acc: 0.9756 - val_loss: 0.1042 - val_acc: 0.9692\n",
            "Epoch 6/10\n",
            " - 2s - loss: 0.0676 - acc: 0.9804 - val_loss: 0.0947 - val_acc: 0.9719\n",
            "Epoch 7/10\n",
            " - 2s - loss: 0.0556 - acc: 0.9849 - val_loss: 0.0895 - val_acc: 0.9744\n",
            "Epoch 8/10\n",
            " - 2s - loss: 0.0466 - acc: 0.9874 - val_loss: 0.0850 - val_acc: 0.9746\n",
            "Epoch 9/10\n",
            " - 2s - loss: 0.0390 - acc: 0.9895 - val_loss: 0.0876 - val_acc: 0.9743\n",
            "Epoch 10/10\n",
            " - 2s - loss: 0.0328 - acc: 0.9915 - val_loss: 0.0810 - val_acc: 0.9753\n"
          ],
          "name": "stdout"
        }
      ]
    },
    {
      "metadata": {
        "id": "aDrJ26wDtZYP",
        "colab_type": "code",
        "colab": {},
        "outputId": "84713e45-6d7d-400c-b74b-c2019367c4ef"
      },
      "cell_type": "code",
      "source": [
        "#建立訓練過程顯示函數\n",
        "\n",
        "import matplotlib.pyplot as plt\n",
        "\n",
        "def show_train_history(train_history,train,validation):\n",
        "    plt.plot(train_history.history[train])\n",
        "    plt.plot(train_history.history[validation])\n",
        "    plt.title('Train History')\n",
        "    plt.ylabel(train)\n",
        "    plt.xlabel('Epoch')\n",
        "    plt.legend(['train','validation'],loc='upper left')\n",
        "    plt.show()\n",
        "\n",
        "show_train_history(train_history,'acc','val_acc')\n",
        "show_train_history(train_history,'loss','val_loss')"
      ],
      "execution_count": 0,
      "outputs": [
        {
          "output_type": "display_data",
          "data": {
            "image/png": "[encoded data removed]",
            "text/plain": [
              "<Figure size 432x288 with 1 Axes>"
            ]
          },
          "metadata": {
            "tags": []
          }
        },
        {
          "output_type": "display_data",
          "data": {
            "image/png": "[encoded data removed]",
            "text/plain": [
              "<Figure size 432x288 with 1 Axes>"
            ]
          },
          "metadata": {
            "tags": []
          }
        }
      ]
    },
    {
      "metadata": {
        "id": "so7GV17_tZYU",
        "colab_type": "code",
        "colab": {},
        "outputId": "d32a1f01-fefc-4de3-c395-b9967474332a"
      },
      "cell_type": "code",
      "source": [
        "scores=model.evaluate(X_Test_normalize,y_Test)\n",
        "print()\n",
        "print('accuracy=',scores[1])"
      ],
      "execution_count": 0,
      "outputs": [
        {
          "output_type": "stream",
          "text": [
            "10000/10000 [==============================] - 0s 44us/step\n",
            "\n",
            "accuracy= 0.9779\n"
          ],
          "name": "stdout"
        }
      ]
    },
    {
      "metadata": {
        "id": "7LWlBpshtZYX",
        "colab_type": "code",
        "colab": {},
        "outputId": "fcc76fe9-9f45-4007-850a-50866997dd51"
      },
      "cell_type": "code",
      "source": [
        "prediction=model.predict_classes(X_Test)\n",
        "\n",
        "prediction\n",
        "plot_image_labels_prediction(X_test_image,y_test_label,prediction,340)"
      ],
      "execution_count": 0,
      "outputs": [
        {
          "output_type": "display_data",
          "data": {
            "image/png": "[encoded data removed]",
            "text/plain": [
              "<Figure size 864x1008 with 10 Axes>"
            ]
          },
          "metadata": {
            "tags": []
          }
        }
      ]
    },
    {
      "metadata": {
        "id": "InTC0l70tZYa",
        "colab_type": "code",
        "colab": {},
        "outputId": "4a1a2acb-3af6-48eb-b445-9de9c857e7d0"
      },
      "cell_type": "code",
      "source": [
        "import pandas as pd\n",
        "\n",
        "pd.crosstab(y_test_label,prediction,rownames=['label'],colnames=['predict'])"
      ],
      "execution_count": 0,
      "outputs": [
        {
          "output_type": "execute_result",
          "data": {
            "text/html": [
              "<div>\n",
              "<style scoped>\n",
              "    .dataframe tbody tr th:only-of-type {\n",
              "        vertical-align: middle;\n",
              "    }\n",
              "\n",
              "    .dataframe tbody tr th {\n",
              "        vertical-align: top;\n",
              "    }\n",
              "\n",
              "    .dataframe thead th {\n",
              "        text-align: right;\n",
              "    }\n",
              "</style>\n",
              "<table border=\"1\" class=\"dataframe\">\n",
              "  <thead>\n",
              "    <tr style=\"text-align: right;\">\n",
              "      <th>predict</th>\n",
              "      <th>0</th>\n",
              "      <th>1</th>\n",
              "      <th>2</th>\n",
              "      <th>3</th>\n",
              "      <th>4</th>\n",
              "      <th>5</th>\n",
              "      <th>6</th>\n",
              "      <th>7</th>\n",
              "      <th>8</th>\n",
              "      <th>9</th>\n",
              "    </tr>\n",
              "    <tr>\n",
              "      <th>label</th>\n",
              "      <th></th>\n",
              "      <th></th>\n",
              "      <th></th>\n",
              "      <th></th>\n",
              "      <th></th>\n",
              "      <th></th>\n",
              "      <th></th>\n",
              "      <th></th>\n",
              "      <th></th>\n",
              "      <th></th>\n",
              "    </tr>\n",
              "  </thead>\n",
              "  <tbody>\n",
              "    <tr>\n",
              "      <th>0</th>\n",
              "      <td>973</td>\n",
              "      <td>0</td>\n",
              "      <td>0</td>\n",
              "      <td>3</td>\n",
              "      <td>0</td>\n",
              "      <td>0</td>\n",
              "      <td>1</td>\n",
              "      <td>1</td>\n",
              "      <td>2</td>\n",
              "      <td>0</td>\n",
              "    </tr>\n",
              "    <tr>\n",
              "      <th>1</th>\n",
              "      <td>0</td>\n",
              "      <td>1126</td>\n",
              "      <td>4</td>\n",
              "      <td>0</td>\n",
              "      <td>0</td>\n",
              "      <td>0</td>\n",
              "      <td>2</td>\n",
              "      <td>0</td>\n",
              "      <td>3</td>\n",
              "      <td>0</td>\n",
              "    </tr>\n",
              "    <tr>\n",
              "      <th>2</th>\n",
              "      <td>7</td>\n",
              "      <td>1</td>\n",
              "      <td>1002</td>\n",
              "      <td>3</td>\n",
              "      <td>1</td>\n",
              "      <td>0</td>\n",
              "      <td>4</td>\n",
              "      <td>6</td>\n",
              "      <td>8</td>\n",
              "      <td>0</td>\n",
              "    </tr>\n",
              "    <tr>\n",
              "      <th>3</th>\n",
              "      <td>2</td>\n",
              "      <td>0</td>\n",
              "      <td>2</td>\n",
              "      <td>997</td>\n",
              "      <td>0</td>\n",
              "      <td>1</td>\n",
              "      <td>0</td>\n",
              "      <td>2</td>\n",
              "      <td>5</td>\n",
              "      <td>1</td>\n",
              "    </tr>\n",
              "    <tr>\n",
              "      <th>4</th>\n",
              "      <td>4</td>\n",
              "      <td>0</td>\n",
              "      <td>3</td>\n",
              "      <td>1</td>\n",
              "      <td>954</td>\n",
              "      <td>0</td>\n",
              "      <td>3</td>\n",
              "      <td>4</td>\n",
              "      <td>1</td>\n",
              "      <td>12</td>\n",
              "    </tr>\n",
              "    <tr>\n",
              "      <th>5</th>\n",
              "      <td>3</td>\n",
              "      <td>1</td>\n",
              "      <td>0</td>\n",
              "      <td>19</td>\n",
              "      <td>1</td>\n",
              "      <td>849</td>\n",
              "      <td>6</td>\n",
              "      <td>2</td>\n",
              "      <td>8</td>\n",
              "      <td>3</td>\n",
              "    </tr>\n",
              "    <tr>\n",
              "      <th>6</th>\n",
              "      <td>7</td>\n",
              "      <td>2</td>\n",
              "      <td>1</td>\n",
              "      <td>1</td>\n",
              "      <td>1</td>\n",
              "      <td>3</td>\n",
              "      <td>942</td>\n",
              "      <td>0</td>\n",
              "      <td>1</td>\n",
              "      <td>0</td>\n",
              "    </tr>\n",
              "    <tr>\n",
              "      <th>7</th>\n",
              "      <td>1</td>\n",
              "      <td>5</td>\n",
              "      <td>6</td>\n",
              "      <td>2</td>\n",
              "      <td>0</td>\n",
              "      <td>0</td>\n",
              "      <td>0</td>\n",
              "      <td>1007</td>\n",
              "      <td>3</td>\n",
              "      <td>4</td>\n",
              "    </tr>\n",
              "    <tr>\n",
              "      <th>8</th>\n",
              "      <td>4</td>\n",
              "      <td>0</td>\n",
              "      <td>1</td>\n",
              "      <td>8</td>\n",
              "      <td>2</td>\n",
              "      <td>1</td>\n",
              "      <td>2</td>\n",
              "      <td>3</td>\n",
              "      <td>950</td>\n",
              "      <td>3</td>\n",
              "    </tr>\n",
              "    <tr>\n",
              "      <th>9</th>\n",
              "      <td>3</td>\n",
              "      <td>5</td>\n",
              "      <td>0</td>\n",
              "      <td>5</td>\n",
              "      <td>6</td>\n",
              "      <td>2</td>\n",
              "      <td>1</td>\n",
              "      <td>7</td>\n",
              "      <td>5</td>\n",
              "      <td>975</td>\n",
              "    </tr>\n",
              "  </tbody>\n",
              "</table>\n",
              "</div>"
            ],
            "text/plain": [
              "predict    0     1     2    3    4    5    6     7    8    9\n",
              "label                                                       \n",
              "0        973     0     0    3    0    0    1     1    2    0\n",
              "1          0  1126     4    0    0    0    2     0    3    0\n",
              "2          7     1  1002    3    1    0    4     6    8    0\n",
              "3          2     0     2  997    0    1    0     2    5    1\n",
              "4          4     0     3    1  954    0    3     4    1   12\n",
              "5          3     1     0   19    1  849    6     2    8    3\n",
              "6          7     2     1    1    1    3  942     0    1    0\n",
              "7          1     5     6    2    0    0    0  1007    3    4\n",
              "8          4     0     1    8    2    1    2     3  950    3\n",
              "9          3     5     0    5    6    2    1     7    5  975"
            ]
          },
          "metadata": {
            "tags": []
          },
          "execution_count": 32
        }
      ]
    },
    {
      "metadata": {
        "id": "p3rL5vNZtZYe",
        "colab_type": "code",
        "colab": {},
        "outputId": "6c32857b-9922-40ee-caf9-93bba9721373"
      },
      "cell_type": "code",
      "source": [
        "df=pd.DataFrame({'label':y_test_label,'predict':prediction})\n",
        "df[:10]"
      ],
      "execution_count": 0,
      "outputs": [
        {
          "output_type": "execute_result",
          "data": {
            "text/html": [
              "<div>\n",
              "<style scoped>\n",
              "    .dataframe tbody tr th:only-of-type {\n",
              "        vertical-align: middle;\n",
              "    }\n",
              "\n",
              "    .dataframe tbody tr th {\n",
              "        vertical-align: top;\n",
              "    }\n",
              "\n",
              "    .dataframe thead th {\n",
              "        text-align: right;\n",
              "    }\n",
              "</style>\n",
              "<table border=\"1\" class=\"dataframe\">\n",
              "  <thead>\n",
              "    <tr style=\"text-align: right;\">\n",
              "      <th></th>\n",
              "      <th>label</th>\n",
              "      <th>predict</th>\n",
              "    </tr>\n",
              "  </thead>\n",
              "  <tbody>\n",
              "    <tr>\n",
              "      <th>0</th>\n",
              "      <td>7</td>\n",
              "      <td>7</td>\n",
              "    </tr>\n",
              "    <tr>\n",
              "      <th>1</th>\n",
              "      <td>2</td>\n",
              "      <td>2</td>\n",
              "    </tr>\n",
              "    <tr>\n",
              "      <th>2</th>\n",
              "      <td>1</td>\n",
              "      <td>1</td>\n",
              "    </tr>\n",
              "    <tr>\n",
              "      <th>3</th>\n",
              "      <td>0</td>\n",
              "      <td>0</td>\n",
              "    </tr>\n",
              "    <tr>\n",
              "      <th>4</th>\n",
              "      <td>4</td>\n",
              "      <td>4</td>\n",
              "    </tr>\n",
              "    <tr>\n",
              "      <th>5</th>\n",
              "      <td>1</td>\n",
              "      <td>1</td>\n",
              "    </tr>\n",
              "    <tr>\n",
              "      <th>6</th>\n",
              "      <td>4</td>\n",
              "      <td>4</td>\n",
              "    </tr>\n",
              "    <tr>\n",
              "      <th>7</th>\n",
              "      <td>9</td>\n",
              "      <td>9</td>\n",
              "    </tr>\n",
              "    <tr>\n",
              "      <th>8</th>\n",
              "      <td>5</td>\n",
              "      <td>6</td>\n",
              "    </tr>\n",
              "    <tr>\n",
              "      <th>9</th>\n",
              "      <td>9</td>\n",
              "      <td>9</td>\n",
              "    </tr>\n",
              "  </tbody>\n",
              "</table>\n",
              "</div>"
            ],
            "text/plain": [
              "   label  predict\n",
              "0      7        7\n",
              "1      2        2\n",
              "2      1        1\n",
              "3      0        0\n",
              "4      4        4\n",
              "5      1        1\n",
              "6      4        4\n",
              "7      9        9\n",
              "8      5        6\n",
              "9      9        9"
            ]
          },
          "metadata": {
            "tags": []
          },
          "execution_count": 33
        }
      ]
    },
    {
      "metadata": {
        "id": "9PquwMM9tZYh",
        "colab_type": "code",
        "colab": {},
        "outputId": "9bbcc0ff-52f5-4dd7-84ae-168accd4f657"
      },
      "cell_type": "code",
      "source": [
        "df[(df.label==5)&(df.predict==3)]"
      ],
      "execution_count": 0,
      "outputs": [
        {
          "output_type": "execute_result",
          "data": {
            "text/html": [
              "<div>\n",
              "<style scoped>\n",
              "    .dataframe tbody tr th:only-of-type {\n",
              "        vertical-align: middle;\n",
              "    }\n",
              "\n",
              "    .dataframe tbody tr th {\n",
              "        vertical-align: top;\n",
              "    }\n",
              "\n",
              "    .dataframe thead th {\n",
              "        text-align: right;\n",
              "    }\n",
              "</style>\n",
              "<table border=\"1\" class=\"dataframe\">\n",
              "  <thead>\n",
              "    <tr style=\"text-align: right;\">\n",
              "      <th></th>\n",
              "      <th>label</th>\n",
              "      <th>predict</th>\n",
              "    </tr>\n",
              "  </thead>\n",
              "  <tbody>\n",
              "    <tr>\n",
              "      <th>340</th>\n",
              "      <td>5</td>\n",
              "      <td>3</td>\n",
              "    </tr>\n",
              "    <tr>\n",
              "      <th>1003</th>\n",
              "      <td>5</td>\n",
              "      <td>3</td>\n",
              "    </tr>\n",
              "    <tr>\n",
              "      <th>1393</th>\n",
              "      <td>5</td>\n",
              "      <td>3</td>\n",
              "    </tr>\n",
              "    <tr>\n",
              "      <th>1670</th>\n",
              "      <td>5</td>\n",
              "      <td>3</td>\n",
              "    </tr>\n",
              "    <tr>\n",
              "      <th>2597</th>\n",
              "      <td>5</td>\n",
              "      <td>3</td>\n",
              "    </tr>\n",
              "    <tr>\n",
              "      <th>2810</th>\n",
              "      <td>5</td>\n",
              "      <td>3</td>\n",
              "    </tr>\n",
              "    <tr>\n",
              "      <th>3702</th>\n",
              "      <td>5</td>\n",
              "      <td>3</td>\n",
              "    </tr>\n",
              "    <tr>\n",
              "      <th>3902</th>\n",
              "      <td>5</td>\n",
              "      <td>3</td>\n",
              "    </tr>\n",
              "    <tr>\n",
              "      <th>3968</th>\n",
              "      <td>5</td>\n",
              "      <td>3</td>\n",
              "    </tr>\n",
              "    <tr>\n",
              "      <th>4271</th>\n",
              "      <td>5</td>\n",
              "      <td>3</td>\n",
              "    </tr>\n",
              "    <tr>\n",
              "      <th>4355</th>\n",
              "      <td>5</td>\n",
              "      <td>3</td>\n",
              "    </tr>\n",
              "    <tr>\n",
              "      <th>4360</th>\n",
              "      <td>5</td>\n",
              "      <td>3</td>\n",
              "    </tr>\n",
              "    <tr>\n",
              "      <th>5937</th>\n",
              "      <td>5</td>\n",
              "      <td>3</td>\n",
              "    </tr>\n",
              "    <tr>\n",
              "      <th>5972</th>\n",
              "      <td>5</td>\n",
              "      <td>3</td>\n",
              "    </tr>\n",
              "    <tr>\n",
              "      <th>5982</th>\n",
              "      <td>5</td>\n",
              "      <td>3</td>\n",
              "    </tr>\n",
              "    <tr>\n",
              "      <th>6043</th>\n",
              "      <td>5</td>\n",
              "      <td>3</td>\n",
              "    </tr>\n",
              "    <tr>\n",
              "      <th>6598</th>\n",
              "      <td>5</td>\n",
              "      <td>3</td>\n",
              "    </tr>\n",
              "    <tr>\n",
              "      <th>8502</th>\n",
              "      <td>5</td>\n",
              "      <td>3</td>\n",
              "    </tr>\n",
              "    <tr>\n",
              "      <th>9482</th>\n",
              "      <td>5</td>\n",
              "      <td>3</td>\n",
              "    </tr>\n",
              "  </tbody>\n",
              "</table>\n",
              "</div>"
            ],
            "text/plain": [
              "      label  predict\n",
              "340       5        3\n",
              "1003      5        3\n",
              "1393      5        3\n",
              "1670      5        3\n",
              "2597      5        3\n",
              "2810      5        3\n",
              "3702      5        3\n",
              "3902      5        3\n",
              "3968      5        3\n",
              "4271      5        3\n",
              "4355      5        3\n",
              "4360      5        3\n",
              "5937      5        3\n",
              "5972      5        3\n",
              "5982      5        3\n",
              "6043      5        3\n",
              "6598      5        3\n",
              "8502      5        3\n",
              "9482      5        3"
            ]
          },
          "metadata": {
            "tags": []
          },
          "execution_count": 36
        }
      ]
    },
    {
      "metadata": {
        "id": "WX2ABNEHtZYl",
        "colab_type": "code",
        "colab": {},
        "outputId": "55292c65-c777-43b0-cc2f-56939688f360"
      },
      "cell_type": "code",
      "source": [
        "plot_image_labels_prediction(X_test_image,y_test_label,prediction,340,1)"
      ],
      "execution_count": 0,
      "outputs": [
        {
          "output_type": "display_data",
          "data": {
            "image/png": "[encoded data removed]",
            "text/plain": [
              "<Figure size 864x1008 with 1 Axes>"
            ]
          },
          "metadata": {
            "tags": []
          }
        }
      ]
    },
    {
      "metadata": {
        "id": "rms9dsaItZYn",
        "colab_type": "code",
        "colab": {},
        "outputId": "addffa96-2d1e-4280-9b6c-3abd724f39dd"
      },
      "cell_type": "code",
      "source": [
        "from keras.models import Sequential\n",
        "from keras.layers import Dense\n",
        "\n",
        "model=Sequential()\n",
        "\n",
        "model.add(Dense(units=1000,input_dim=784,kernel_initializer='normal',activation='relu'))\n",
        "\n",
        "model.add(Dense(units=10,kernel_initializer='normal',activation='softmax'))\n",
        "\n",
        "print(model.summary())"
      ],
      "execution_count": 0,
      "outputs": [
        {
          "output_type": "stream",
          "text": [
            "_________________________________________________________________\n",
            "Layer (type)                 Output Shape              Param #   \n",
            "=================================================================\n",
            "dense_7 (Dense)              (None, 1000)              785000    \n",
            "_________________________________________________________________\n",
            "dense_8 (Dense)              (None, 10)                10010     \n",
            "=================================================================\n",
            "Total params: 795,010\n",
            "Trainable params: 795,010\n",
            "Non-trainable params: 0\n",
            "_________________________________________________________________\n",
            "None\n"
          ],
          "name": "stdout"
        }
      ]
    },
    {
      "metadata": {
        "id": "sx-NGT2ltZYr",
        "colab_type": "code",
        "colab": {},
        "outputId": "9b681ba4-196c-4847-b643-c3e655df9ea3"
      },
      "cell_type": "code",
      "source": [
        "model.compile(loss='categorical_crossentropy',optimizer='adam',metrics=['accuracy'])\n",
        "train_history=model.fit(x=X_Train_normalize,y=y_Train,validation_split=0.2,epochs=10,batch_size=200,verbose=2)"
      ],
      "execution_count": 0,
      "outputs": [
        {
          "output_type": "stream",
          "text": [
            "Train on 48000 samples, validate on 12000 samples\n",
            "Epoch 1/10\n",
            " - 8s - loss: 0.2943 - acc: 0.9144 - val_loss: 0.1466 - val_acc: 0.9594\n",
            "Epoch 2/10\n",
            " - 7s - loss: 0.1154 - acc: 0.9666 - val_loss: 0.1046 - val_acc: 0.9699\n",
            "Epoch 3/10\n",
            " - 7s - loss: 0.0738 - acc: 0.9791 - val_loss: 0.0916 - val_acc: 0.9737\n",
            "Epoch 4/10\n",
            " - 7s - loss: 0.0511 - acc: 0.9855 - val_loss: 0.0803 - val_acc: 0.9766\n",
            "Epoch 5/10\n",
            " - 7s - loss: 0.0356 - acc: 0.9904 - val_loss: 0.0839 - val_acc: 0.9764\n",
            "Epoch 6/10\n",
            " - 7s - loss: 0.0260 - acc: 0.9934 - val_loss: 0.0784 - val_acc: 0.9773\n",
            "Epoch 7/10\n",
            " - 7s - loss: 0.0187 - acc: 0.9956 - val_loss: 0.0718 - val_acc: 0.9791\n",
            "Epoch 8/10\n",
            " - 7s - loss: 0.0134 - acc: 0.9969 - val_loss: 0.0709 - val_acc: 0.9796\n",
            "Epoch 9/10\n",
            " - 7s - loss: 0.0089 - acc: 0.9988 - val_loss: 0.0738 - val_acc: 0.9797\n",
            "Epoch 10/10\n",
            " - 7s - loss: 0.0068 - acc: 0.9991 - val_loss: 0.0762 - val_acc: 0.9793\n"
          ],
          "name": "stdout"
        }
      ]
    },
    {
      "metadata": {
        "id": "bCNhx-f7tZYw",
        "colab_type": "code",
        "colab": {},
        "outputId": "06679048-3ce3-4c1c-c270-3f7b747d08e7"
      },
      "cell_type": "code",
      "source": [
        "show_train_history(train_history,'acc','val_acc')\n",
        "show_train_history(train_history,'loss','val_loss')"
      ],
      "execution_count": 0,
      "outputs": [
        {
          "output_type": "display_data",
          "data": {
            "image/png": "[encoded data removed]",
            "text/plain": [
              "<Figure size 432x288 with 1 Axes>"
            ]
          },
          "metadata": {
            "tags": []
          }
        },
        {
          "output_type": "display_data",
          "data": {
            "image/png": "[encoded data removed]",
            "text/plain": [
              "<Figure size 432x288 with 1 Axes>"
            ]
          },
          "metadata": {
            "tags": []
          }
        }
      ]
    },
    {
      "metadata": {
        "id": "_8DpFEtjtZY1",
        "colab_type": "code",
        "colab": {},
        "outputId": "7b4b769c-24bc-4993-ce24-b87004d0171e"
      },
      "cell_type": "code",
      "source": [
        "from keras.models import Sequential\n",
        "from keras.layers import Dense\n",
        "from keras.layers import Dropout\n",
        "\n",
        "model=Sequential()\n",
        "\n",
        "model.add(Dense(units=1000,input_dim=784,kernel_initializer='normal',activation='relu'))\n",
        "model.add(Dropout(0.5))\n",
        "model.add(Dense(units=1000,input_dim=784,kernel_initializer='normal',activation='relu'))\n",
        "model.add(Dropout(0.5))\n",
        "model.add(Dense(units=10,kernel_initializer='normal',activation='softmax'))\n",
        "\n",
        "print(model.summary())"
      ],
      "execution_count": 0,
      "outputs": [
        {
          "output_type": "stream",
          "text": [
            "_________________________________________________________________\n",
            "Layer (type)                 Output Shape              Param #   \n",
            "=================================================================\n",
            "dense_13 (Dense)             (None, 1000)              785000    \n",
            "_________________________________________________________________\n",
            "dropout_3 (Dropout)          (None, 1000)              0         \n",
            "_________________________________________________________________\n",
            "dense_14 (Dense)             (None, 1000)              1001000   \n",
            "_________________________________________________________________\n",
            "dropout_4 (Dropout)          (None, 1000)              0         \n",
            "_________________________________________________________________\n",
            "dense_15 (Dense)             (None, 10)                10010     \n",
            "=================================================================\n",
            "Total params: 1,796,010\n",
            "Trainable params: 1,796,010\n",
            "Non-trainable params: 0\n",
            "_________________________________________________________________\n",
            "None\n"
          ],
          "name": "stdout"
        }
      ]
    },
    {
      "metadata": {
        "id": "hKZtN8OHtZY3",
        "colab_type": "code",
        "colab": {},
        "outputId": "c40e8aec-c9aa-4123-b39f-6aa5a3708606"
      },
      "cell_type": "code",
      "source": [
        "model.compile(loss='categorical_crossentropy',optimizer='adam',metrics=['accuracy'])\n",
        "train_history=model.fit(x=X_Train_normalize,y=y_Train,validation_split=0.2,epochs=10,batch_size=200,verbose=2)"
      ],
      "execution_count": 0,
      "outputs": [
        {
          "output_type": "stream",
          "text": [
            "Train on 48000 samples, validate on 12000 samples\n",
            "Epoch 1/10\n",
            " - 20s - loss: 0.3683 - acc: 0.8841 - val_loss: 0.1410 - val_acc: 0.9577\n",
            "Epoch 2/10\n",
            " - 19s - loss: 0.1641 - acc: 0.9500 - val_loss: 0.1056 - val_acc: 0.9681\n",
            "Epoch 3/10\n",
            " - 19s - loss: 0.1174 - acc: 0.9639 - val_loss: 0.0878 - val_acc: 0.9733\n",
            "Epoch 4/10\n",
            " - 19s - loss: 0.1003 - acc: 0.9685 - val_loss: 0.0808 - val_acc: 0.9751\n",
            "Epoch 5/10\n",
            " - 20s - loss: 0.0844 - acc: 0.9741 - val_loss: 0.0898 - val_acc: 0.9710\n",
            "Epoch 6/10\n",
            " - 19s - loss: 0.0742 - acc: 0.9757 - val_loss: 0.0756 - val_acc: 0.9775\n",
            "Epoch 7/10\n",
            " - 19s - loss: 0.0670 - acc: 0.9789 - val_loss: 0.0732 - val_acc: 0.9767\n",
            "Epoch 8/10\n",
            " - 20s - loss: 0.0587 - acc: 0.9805 - val_loss: 0.0793 - val_acc: 0.9772\n",
            "Epoch 9/10\n",
            " - 19s - loss: 0.0590 - acc: 0.9809 - val_loss: 0.0763 - val_acc: 0.9791\n",
            "Epoch 10/10\n",
            " - 20s - loss: 0.0544 - acc: 0.9826 - val_loss: 0.0756 - val_acc: 0.9781\n"
          ],
          "name": "stdout"
        }
      ]
    },
    {
      "metadata": {
        "id": "8W-aZjhDtZY7",
        "colab_type": "code",
        "colab": {},
        "outputId": "4e833a03-54f0-4f39-ba3e-43ab71aa6ba6"
      },
      "cell_type": "code",
      "source": [
        "show_train_history(train_history,'acc','val_acc')\n",
        "show_train_history(train_history,'loss','val_loss')"
      ],
      "execution_count": 0,
      "outputs": [
        {
          "output_type": "display_data",
          "data": {
            "image/png": "[encoded data removed]",
            "text/plain": [
              "<Figure size 432x288 with 1 Axes>"
            ]
          },
          "metadata": {
            "tags": []
          }
        },
        {
          "output_type": "display_data",
          "data": {
            "image/png": "[encoded data removed]",
            "text/plain": [
              "<Figure size 432x288 with 1 Axes>"
            ]
          },
          "metadata": {
            "tags": []
          }
        }
      ]
    },
    {
      "metadata": {
        "id": "dNs4RGPKtZY9",
        "colab_type": "code",
        "colab": {},
        "outputId": "75c27d39-6b6c-493d-8ec1-9071c3e88c13"
      },
      "cell_type": "code",
      "source": [
        "scores=model.evaluate(X_Test_normalize,y_Test)\n",
        "print()\n",
        "print('accuracy=',scores[1])"
      ],
      "execution_count": 0,
      "outputs": [
        {
          "output_type": "stream",
          "text": [
            "10000/10000 [==============================] - 2s 225us/step\n",
            "\n",
            "accuracy= 0.9801\n"
          ],
          "name": "stdout"
        }
      ]
    },
    {
      "metadata": {
        "id": "cOsvXsHQtZZB",
        "colab_type": "code",
        "colab": {}
      },
      "cell_type": "code",
      "source": [
        ""
      ],
      "execution_count": 0,
      "outputs": []
    }
  ]
}