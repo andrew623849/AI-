{
  "nbformat": 4,
  "nbformat_minor": 0,
  "metadata": {
    "colab": {
      "name": "RNN影評辨識.ipynb",
      "version": "0.3.2",
      "provenance": [],
      "include_colab_link": true
    },
    "kernelspec": {
      "name": "python3",
      "display_name": "Python 3"
    }
  },
  "cells": [
    {
      "cell_type": "markdown",
      "metadata": {
        "id": "view-in-github",
        "colab_type": "text"
      },
      "source": [
        "<a href=\"https://colab.research.google.com/github/andrew623849/AI-/blob/master/RNN%E5%BD%B1%E8%A9%95%E8%BE%A8%E8%AD%98.ipynb\" target=\"_parent\"><img src=\"https://colab.research.google.com/assets/colab-badge.svg\" alt=\"Open In Colab\"/></a>"
      ]
    },
    {
      "metadata": {
        "id": "MP_Vp4v-0c47",
        "colab_type": "code",
        "colab": {}
      },
      "cell_type": "code",
      "source": [
        "import urllib.request\n",
        "import os\n",
        "import tarfile\n",
        "url=\"http://ai.stanford.edu/~amaas/data/sentiment/aclImdb_v1.tar.gz\"\n",
        "filepath=\"aclImdb_v1.tar.gz\"\n",
        "if not os.path.isfile(filepath):\n",
        "  result=urllib.request.urlretrieve(url,filepath)\n",
        "  print('downloaded:',result)"
      ],
      "execution_count": 0,
      "outputs": []
    },
    {
      "metadata": {
        "id": "m6mwwtZB0-xN",
        "colab_type": "code",
        "colab": {}
      },
      "cell_type": "code",
      "source": [
        "if not os.path.exists(\"aclImdb\"):\n",
        "    tfile=tarfile.open(\"aclImdb_v1.tar.gz\",'r:gz')\n",
        "    result=tfile.extractall('')"
      ],
      "execution_count": 0,
      "outputs": []
    },
    {
      "metadata": {
        "id": "BORY0dSN0-7a",
        "colab_type": "code",
        "colab": {}
      },
      "cell_type": "code",
      "source": [
        "import re\n",
        "def rm_tag(text):\n",
        "    re_tag=re.compile(r'<[^>]+>')\n",
        "    return re_tag.sub('',text)"
      ],
      "execution_count": 0,
      "outputs": []
    },
    {
      "metadata": {
        "id": "Fq08KKl70--s",
        "colab_type": "code",
        "colab": {}
      },
      "cell_type": "code",
      "source": [
        "import os \n",
        "def read_files(filetype):\n",
        "    path=\"aclImdb/\"\n",
        "    file_list=[]\n",
        "    \n",
        "    positive_path=path+filetype+\"/pos/\"\n",
        "    for f in os.listdir(positive_path):\n",
        "        file_list+=[positive_path+f]\n",
        "        \n",
        "    negative_path=path+filetype+\"/neg/\"\n",
        "    for f in os.listdir(negative_path):\n",
        "        file_list+=[negative_path+f]\n",
        "        \n",
        "    print('read',filetype,'file:',len(file_list))\n",
        "    \n",
        "    all_labels=([1]*12500+[0]*12500)\n",
        "    \n",
        "    all_texts=[]\n",
        "    for fi in file_list:\n",
        "        with open(fi,encoding='utf8') as file_input:\n",
        "            all_texts+=[rm_tag(\" \".join(file_input.readlines()))]\n",
        "        \n",
        "    return all_labels,all_texts"
      ],
      "execution_count": 0,
      "outputs": []
    },
    {
      "metadata": {
        "id": "S8FkfMFb0_B0",
        "colab_type": "code",
        "colab": {
          "base_uri": "https://localhost:8080/",
          "height": 52
        },
        "outputId": "26fb5bd1-7219-4f70-94c1-8d96b65e3924"
      },
      "cell_type": "code",
      "source": [
        "y_train,train_text=read_files(\"train\")\n",
        "y_test,test_text=read_files(\"test\")\n",
        "from keras.preprocessing import sequence\n",
        "from keras.preprocessing.text import Tokenizer\n",
        "token=Tokenizer(num_words=3800)\n",
        "token.fit_on_texts(train_text)\n",
        "x_train_seq=token.texts_to_sequences(train_text)\n",
        "x_test_seq=token.texts_to_sequences(test_text)\n",
        "x_train=sequence.pad_sequences(x_train_seq, maxlen=380)\n",
        "x_test=sequence.pad_sequences(x_test_seq, maxlen=380)"
      ],
      "execution_count": 14,
      "outputs": [
        {
          "output_type": "stream",
          "text": [
            "read train file: 25000\n",
            "read test file: 25000\n"
          ],
          "name": "stdout"
        }
      ]
    },
    {
      "metadata": {
        "id": "Sy3GsVkg0_Ej",
        "colab_type": "code",
        "colab": {
          "base_uri": "https://localhost:8080/",
          "height": 345
        },
        "outputId": "491d6861-75ba-47f5-8e0a-8e73ada206d0"
      },
      "cell_type": "code",
      "source": [
        "from keras.models import Sequential\n",
        "from keras.layers.core import Dense,Dropout,Activation,Flatten\n",
        "from keras.layers.embeddings import Embedding\n",
        "from keras.layers.recurrent import SimpleRNN\n",
        "\n",
        "model=Sequential()\n",
        "model.add(Embedding(output_dim=32,input_dim=3800,input_length=380))\n",
        "model.add(Dropout(0.2))\n",
        "model.add(SimpleRNN(units=16))\n",
        "model.add(Dense(units=256,activation='relu'))\n",
        "model.add(Dropout(0.25))\n",
        "model.add(Dense(units=1,activation='sigmoid'))\n",
        "\n",
        "model.summary()"
      ],
      "execution_count": 15,
      "outputs": [
        {
          "output_type": "stream",
          "text": [
            "_________________________________________________________________\n",
            "Layer (type)                 Output Shape              Param #   \n",
            "=================================================================\n",
            "embedding_3 (Embedding)      (None, 380, 32)           121600    \n",
            "_________________________________________________________________\n",
            "dropout_4 (Dropout)          (None, 380, 32)           0         \n",
            "_________________________________________________________________\n",
            "simple_rnn_2 (SimpleRNN)     (None, 16)                784       \n",
            "_________________________________________________________________\n",
            "dense_3 (Dense)              (None, 256)               4352      \n",
            "_________________________________________________________________\n",
            "dropout_5 (Dropout)          (None, 256)               0         \n",
            "_________________________________________________________________\n",
            "dense_4 (Dense)              (None, 1)                 257       \n",
            "=================================================================\n",
            "Total params: 126,993\n",
            "Trainable params: 126,993\n",
            "Non-trainable params: 0\n",
            "_________________________________________________________________\n"
          ],
          "name": "stdout"
        }
      ]
    },
    {
      "metadata": {
        "id": "NH4af1ol0_HT",
        "colab_type": "code",
        "colab": {
          "base_uri": "https://localhost:8080/",
          "height": 380
        },
        "outputId": "ef767507-9ceb-4d2b-d55f-a35e533c63cc"
      },
      "cell_type": "code",
      "source": [
        "model.compile(loss='binary_crossentropy',optimizer='adam',metrics=['accuracy'])\n",
        "train_history=model.fit(x_train,y_train,batch_size=100,epochs=10,verbose=2,validation_split=0.2)"
      ],
      "execution_count": 16,
      "outputs": [
        {
          "output_type": "stream",
          "text": [
            "Train on 20000 samples, validate on 5000 samples\n",
            "Epoch 1/10\n",
            " - 25s - loss: 0.5030 - acc: 0.7469 - val_loss: 0.3853 - val_acc: 0.8462\n",
            "Epoch 2/10\n",
            " - 24s - loss: 0.3087 - acc: 0.8779 - val_loss: 0.6593 - val_acc: 0.7324\n",
            "Epoch 3/10\n",
            " - 24s - loss: 0.2579 - acc: 0.8993 - val_loss: 0.3847 - val_acc: 0.8312\n",
            "Epoch 4/10\n",
            " - 24s - loss: 0.2279 - acc: 0.9148 - val_loss: 0.7710 - val_acc: 0.7378\n",
            "Epoch 5/10\n",
            " - 24s - loss: 0.2130 - acc: 0.9170 - val_loss: 0.4276 - val_acc: 0.8324\n",
            "Epoch 6/10\n",
            " - 24s - loss: 0.1977 - acc: 0.9248 - val_loss: 0.4809 - val_acc: 0.8316\n",
            "Epoch 7/10\n",
            " - 24s - loss: 0.1718 - acc: 0.9354 - val_loss: 0.4719 - val_acc: 0.8278\n",
            "Epoch 8/10\n",
            " - 24s - loss: 0.1374 - acc: 0.9499 - val_loss: 0.6590 - val_acc: 0.7770\n",
            "Epoch 9/10\n",
            " - 24s - loss: 0.1271 - acc: 0.9538 - val_loss: 0.6540 - val_acc: 0.7812\n",
            "Epoch 10/10\n",
            " - 24s - loss: 0.1249 - acc: 0.9539 - val_loss: 1.1400 - val_acc: 0.7086\n"
          ],
          "name": "stdout"
        }
      ]
    },
    {
      "metadata": {
        "id": "GY2h3_hO4Cdd",
        "colab_type": "code",
        "colab": {
          "base_uri": "https://localhost:8080/",
          "height": 52
        },
        "outputId": "c8ebcfb3-8036-4083-f9d8-ca468e3e1079"
      },
      "cell_type": "code",
      "source": [
        "scores=model.evaluate(x_test,y_test,verbose=1)\n",
        "scores[1]"
      ],
      "execution_count": 17,
      "outputs": [
        {
          "output_type": "stream",
          "text": [
            "25000/25000 [==============================] - 17s 694us/step\n"
          ],
          "name": "stdout"
        },
        {
          "output_type": "execute_result",
          "data": {
            "text/plain": [
              "0.82204"
            ]
          },
          "metadata": {
            "tags": []
          },
          "execution_count": 17
        }
      ]
    }
  ]
}